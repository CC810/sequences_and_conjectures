{
 "cells": [
  {
   "cell_type": "markdown",
   "metadata": {},
   "source": [
    "# Mandelbrot iterations"
   ]
  },
  {
   "cell_type": "markdown",
   "metadata": {},
   "source": [
    "I wanted to code it by myself. But while looking for explanation of the iteration and what was the formula, I stumble on to the codinggame.com website. Everything was already there well coded ready to draw beautiful (colored) pictures.\n",
    "So you can find the source of the code here:\n",
    "https://www.codingame.com/playgrounds/2358/how-to-plot-the-mandelbrot-set/mandelbrot-set"
   ]
  },
  {
   "cell_type": "markdown",
   "metadata": {},
   "source": [
    "The first video I watched, which was inspiring (so I had to code Mandelbrot): \n",
    "    https://www.youtube.com/watch?v=FFftmWSzgmk\n",
    "\n",
    "Another one to watch for more maths: \n",
    "    https://www.youtube.com/watch?v=NGMRB4O922I&t=2s"
   ]
  },
  {
   "cell_type": "markdown",
   "metadata": {},
   "source": [
    "## 1. What we need to draw a Mandelbrot"
   ]
  },
  {
   "cell_type": "code",
   "execution_count": 29,
   "metadata": {},
   "outputs": [],
   "source": [
    "from PIL import Image, ImageDraw\n",
    "from math import log, log2 #need to smooth coloring\n",
    "from collections import defaultdict # for histogram coloring\n",
    "from math import floor, ceil # for histogram coloring"
   ]
  },
  {
   "cell_type": "markdown",
   "metadata": {},
   "source": [
    "If you read or watch the videos about the Mandelbrot, you know that the iteration is infinite. Obviously you don't want that to happen during your computation. So you need to set the maximum of iterations:"
   ]
  },
  {
   "cell_type": "code",
   "execution_count": 3,
   "metadata": {},
   "outputs": [],
   "source": [
    "MAX_ITER = 80"
   ]
  },
  {
   "cell_type": "markdown",
   "metadata": {},
   "source": [
    "We will define two mandelbrot functions: \n",
    "    - one which is the original version\n",
    "    - one which include a smoothing (using log transformations) to get a smooth coloration"
   ]
  },
  {
   "cell_type": "code",
   "execution_count": 4,
   "metadata": {},
   "outputs": [],
   "source": [
    "def mandelbrot(c):\n",
    "\tz = 0\n",
    "\tn = 0\n",
    "\twhile abs(z) <= 2 and n < MAX_ITER:\n",
    "\t\tz = z**2 + c # formula\n",
    "\t\tn += 1 # iteration step\n",
    "\treturn n\n",
    "\n",
    "\n",
    "def mandelbrot_smooth(c):\n",
    "    z = 0\n",
    "    n = 0\n",
    "    while abs(z) <= 2 and n < MAX_ITER:\n",
    "        z = z*z + c\n",
    "        n += 1\n",
    "\n",
    "    if n == MAX_ITER:\n",
    "        return MAX_ITER\n",
    "    \n",
    "    return n + 1 - log(log2(abs(z))) # for smoothing"
   ]
  },
  {
   "cell_type": "markdown",
   "metadata": {},
   "source": [
    "Example: how  to get the number serie:"
   ]
  },
  {
   "cell_type": "code",
   "execution_count": 7,
   "metadata": {},
   "outputs": [
    {
     "name": "stdout",
     "output_type": "stream",
     "text": [
      "(-1-1j) 3\n",
      "(-1-0.5j) 5\n",
      "(-1+0j) 80\n",
      "(-1+0.5j) 5\n",
      "(-0.5-1j) 4\n",
      "(-0.5-0.5j) 80\n",
      "(-0.5+0j) 80\n",
      "(-0.5+0.5j) 80\n",
      "-1j 80\n",
      "-0.5j 80\n",
      "0j 80\n",
      "0.5j 80\n",
      "(0.5-1j) 2\n",
      "(0.5-0.5j) 5\n",
      "(0.5+0j) 5\n",
      "(0.5+0.5j) 5\n"
     ]
    }
   ],
   "source": [
    "if __name__ == \"__main__\":\n",
    "\tfor a in range(-10, 10, 5):\n",
    "\t\tfor b in range(-10, 10, 5):\n",
    "\t\t\tc = complex(a / 10, b / 10) # create a complex number\n",
    "\t\t\tprint(c, mandelbrot(c))"
   ]
  },
  {
   "cell_type": "code",
   "execution_count": 8,
   "metadata": {},
   "outputs": [
    {
     "name": "stdout",
     "output_type": "stream",
     "text": [
      "(-1-1j) 3.492601814730325\n",
      "(-1-0.5j) 5.616362789538403\n",
      "(-1+0j) 80\n",
      "(-1+0.5j) 5.616362789538403\n",
      "(-0.5-1j) 4.496829242499017\n",
      "(-0.5-0.5j) 80\n",
      "(-0.5+0j) 80\n",
      "(-0.5+0.5j) 80\n",
      "-1j 80\n",
      "-0.5j 80\n",
      "0j 80\n",
      "0.5j 80\n",
      "(0.5-1j) 2.988878170951332\n",
      "(0.5-0.5j) 5.39702012982132\n",
      "(0.5+0j) 5.4950644647539555\n",
      "(0.5+0.5j) 5.39702012982132\n"
     ]
    }
   ],
   "source": [
    "if __name__ == \"__main__\":\n",
    "\tfor a in range(-10, 10, 5):\n",
    "\t\tfor b in range(-10, 10, 5):\n",
    "\t\t\tc = complex(a / 10, b / 10)\n",
    "\t\t\tprint(c, mandelbrot_smooth(c))"
   ]
  },
  {
   "cell_type": "markdown",
   "metadata": {},
   "source": [
    "## 2. Draw Mandelbrot iterations"
   ]
  },
  {
   "cell_type": "markdown",
   "metadata": {},
   "source": [
    "#### Parameters for the drawing:"
   ]
  },
  {
   "cell_type": "code",
   "execution_count": 13,
   "metadata": {},
   "outputs": [],
   "source": [
    "# Image size (pixels)\n",
    "WIDTH = 600\n",
    "HEIGHT = 400\n",
    "\n",
    "# Plot window (startingending point on the axis)\n",
    "RE_START = -2\n",
    "RE_END = 1\n",
    "IM_START = -1\n",
    "IM_END = 1\n",
    "\n",
    "#palette = []\n",
    "\n",
    "im = Image.new('RGB', (WIDTH, HEIGHT), (0, 0, 0))\n",
    "draw = ImageDraw.Draw(im)"
   ]
  },
  {
   "cell_type": "markdown",
   "metadata": {},
   "source": [
    "#### Black and White"
   ]
  },
  {
   "cell_type": "code",
   "execution_count": 22,
   "metadata": {},
   "outputs": [],
   "source": [
    "for x in range(0, WIDTH):\n",
    "    for y in range(0, HEIGHT):\n",
    "        # Convert pixel coordinate to complex number\n",
    "        c = complex(RE_START + (x / WIDTH) * (RE_END - RE_START),\n",
    "                    IM_START + (y / HEIGHT) * (IM_END - IM_START))\n",
    "        # Compute the number of iterations\n",
    "        m = mandelbrot(c)\n",
    "        # The color depends on the number of iterations\n",
    "        color = 255 - int(m * 255 / MAX_ITER)\n",
    "        # Plot the point\n",
    "        draw.point([x, y], (color, color, color))\n",
    "\n",
    "#im.save('BandW_mandelbrot.png', 'PNG') # to save the drawing"
   ]
  },
  {
   "cell_type": "code",
   "execution_count": 39,
   "metadata": {},
   "outputs": [],
   "source": [
    "im.show(draw)"
   ]
  },
  {
   "cell_type": "markdown",
   "metadata": {},
   "source": [
    "##### Smooth Black and White:\n",
    "does not bring much of a difference for the black and white"
   ]
  },
  {
   "cell_type": "code",
   "execution_count": 20,
   "metadata": {},
   "outputs": [],
   "source": [
    "for x in range(0, WIDTH):\n",
    "    for y in range(0, HEIGHT):\n",
    "        # Convert pixel coordinate to complex number\n",
    "        c = complex(RE_START + (x / WIDTH) * (RE_END - RE_START),\n",
    "                    IM_START + (y / HEIGHT) * (IM_END - IM_START))\n",
    "        # Compute the number of iterations\n",
    "        m = mandelbrot_smooth(c) # use the smoothing function \n",
    "        # The color depends on the number of iterations\n",
    "        color = 255 - int(m * 255 / MAX_ITER)\n",
    "        # Plot the point\n",
    "        draw.point([x, y], (color, color, color))\n",
    "\n",
    "im.save('BandWsmooth_mandelbrot.png', 'PNG') # to save the drawing"
   ]
  },
  {
   "cell_type": "markdown",
   "metadata": {},
   "source": [
    "### With colors"
   ]
  },
  {
   "cell_type": "code",
   "execution_count": 24,
   "metadata": {},
   "outputs": [],
   "source": [
    "im = Image.new('HSV', (WIDTH, HEIGHT), (0, 0, 0))\n",
    "draw = ImageDraw.Draw(im)\n",
    "\n",
    "for x in range(0, WIDTH):\n",
    "    for y in range(0, HEIGHT):\n",
    "        # Convert pixel coordinate to complex number\n",
    "        c = complex(RE_START + (x / WIDTH) * (RE_END - RE_START),\n",
    "                    IM_START + (y / HEIGHT) * (IM_END - IM_START))\n",
    "        # Compute the number of iterations\n",
    "        m = mandelbrot(c)\n",
    "        # The color depends on the number of iterations\n",
    "        hue = int(255 * m / MAX_ITER)\n",
    "        saturation = 255\n",
    "        value = 255 if m < MAX_ITER else 0\n",
    "        # Plot the point\n",
    "        draw.point([x, y], (hue, saturation, value))\n",
    "\n",
    "im.convert('RGB').save('color_mandelbrot.png', 'PNG')"
   ]
  },
  {
   "cell_type": "markdown",
   "metadata": {},
   "source": [
    "##### with smoothing colors"
   ]
  },
  {
   "cell_type": "code",
   "execution_count": 30,
   "metadata": {},
   "outputs": [],
   "source": [
    "for x in range(0, WIDTH):\n",
    "    for y in range(0, HEIGHT):\n",
    "        # Convert pixel coordinate to complex number\n",
    "        c = complex(RE_START + (x / WIDTH) * (RE_END - RE_START),\n",
    "                    IM_START + (y / HEIGHT) * (IM_END - IM_START))\n",
    "        # Compute the number of iterations\n",
    "        m = mandelbrot_smooth(c)\n",
    "        # The color depends on the number of iterations\n",
    "        hue = int(255 * m / MAX_ITER)\n",
    "        saturation = 255\n",
    "        value = 255 if m < MAX_ITER else 0\n",
    "        # Plot the point\n",
    "        draw.point([x, y], (hue, saturation, value))\n",
    "\n",
    "im.convert('RGB').save('color_smooth_mandelbrot.png', 'PNG')"
   ]
  },
  {
   "cell_type": "code",
   "execution_count": null,
   "metadata": {},
   "outputs": [],
   "source": [
    "#### Histogram coloring"
   ]
  },
  {
   "cell_type": "code",
   "execution_count": 33,
   "metadata": {},
   "outputs": [],
   "source": [
    "def linear_interpolation(color1, color2, t):\n",
    "    return color1 * (1 - t) + color2 * t"
   ]
  },
  {
   "cell_type": "code",
   "execution_count": 34,
   "metadata": {},
   "outputs": [],
   "source": [
    "histogram = defaultdict(lambda: 0)\n",
    "values = {}\n",
    "for x in range(0, WIDTH):\n",
    "    for y in range(0, HEIGHT):\n",
    "        # Convert pixel coordinate to complex number\n",
    "        c = complex(RE_START + (x / WIDTH) * (RE_END - RE_START),\n",
    "                    IM_START + (y / HEIGHT) * (IM_END - IM_START))\n",
    "        # Compute the number of iterations\n",
    "        m = mandelbrot(c)\n",
    "        \n",
    "        values[(x, y)] = m\n",
    "        if m < MAX_ITER:\n",
    "            histogram[floor(m)] += 1\n",
    "\n",
    "total = sum(histogram.values())\n",
    "hues = []\n",
    "h = 0\n",
    "for i in range(MAX_ITER):\n",
    "    h += histogram[i] / total\n",
    "    hues.append(h)\n",
    "hues.append(h)\n",
    " \n",
    "im = Image.new('HSV', (WIDTH, HEIGHT), (0, 0, 0))\n",
    "draw = ImageDraw.Draw(im)\n",
    "\n",
    "for x in range(0, WIDTH):\n",
    "    for y in range(0, HEIGHT):\n",
    "        m = values[(x, y)]\n",
    "        # The color depends on the number of iterations    \n",
    "        hue = 255 - int(255 * linear_interpolation(hues[floor(m)], hues[ceil(m)], m % 1))\n",
    "        saturation = 255\n",
    "        value = 255 if m < MAX_ITER else 0\n",
    "        # Plot the point\n",
    "        draw.point([x, y], (hue, saturation, value))\n",
    "\n",
    "im.convert('RGB').save('hist_color_mandelbrot.png', 'PNG')"
   ]
  },
  {
   "cell_type": "markdown",
   "metadata": {},
   "source": [
    "#### Histogram coloring with smoothing"
   ]
  },
  {
   "cell_type": "code",
   "execution_count": 38,
   "metadata": {},
   "outputs": [],
   "source": [
    "histogram = defaultdict(lambda: 0)\n",
    "values = {}\n",
    "for x in range(0, WIDTH):\n",
    "    for y in range(0, HEIGHT):\n",
    "        # Convert pixel coordinate to complex number\n",
    "        c = complex(RE_START + (x / WIDTH) * (RE_END - RE_START),\n",
    "                    IM_START + (y / HEIGHT) * (IM_END - IM_START))\n",
    "        # Compute the number of iterations\n",
    "        m = mandelbrot_smooth(c)\n",
    "        \n",
    "        values[(x, y)] = m\n",
    "        if m < MAX_ITER:\n",
    "            histogram[floor(m)] += 1\n",
    "\n",
    "total = sum(histogram.values())\n",
    "hues = []\n",
    "h = 0\n",
    "for i in range(MAX_ITER):\n",
    "    h += histogram[i] / total\n",
    "    hues.append(h)\n",
    "hues.append(h)\n",
    " \n",
    "im = Image.new('HSV', (WIDTH, HEIGHT), (0, 0, 0))\n",
    "draw = ImageDraw.Draw(im)\n",
    "\n",
    "for x in range(0, WIDTH):\n",
    "    for y in range(0, HEIGHT):\n",
    "        m = values[(x, y)]\n",
    "        # The color depends on the number of iterations    \n",
    "        hue = 255 - int(255 * linear_interpolation(hues[floor(m)], hues[ceil(m)], m % 1))\n",
    "        saturation = 255\n",
    "        value = 255 if m < MAX_ITER else 0\n",
    "        # Plot the point\n",
    "        draw.point([x, y], (hue, saturation, value))\n",
    "\n",
    "im.convert('RGB').save('hist_color_smooth_mandelbrot.png', 'PNG')"
   ]
  },
  {
   "cell_type": "markdown",
   "metadata": {},
   "source": [
    "# 3. Julia sets"
   ]
  },
  {
   "cell_type": "markdown",
   "metadata": {},
   "source": [
    "When you zoom into the mandelbrot (between stable zone and unstable zone), you can see the pattern similar to the Julia sets."
   ]
  },
  {
   "cell_type": "code",
   "execution_count": 41,
   "metadata": {},
   "outputs": [],
   "source": [
    "def julia(c, z0):\n",
    "    z = z0\n",
    "    n = 0\n",
    "    while abs(z) <= 2 and n < MAX_ITER:\n",
    "        z = z*z + c\n",
    "        n += 1\n",
    "\n",
    "    if n == MAX_ITER:\n",
    "        return MAX_ITER\n",
    "    \n",
    "    return n + 1 - log(log2(abs(z)))"
   ]
  },
  {
   "cell_type": "code",
   "execution_count": 42,
   "metadata": {},
   "outputs": [],
   "source": [
    "# Image size (pixels)\n",
    "WIDTH = 400\n",
    "HEIGHT = 480\n",
    "\n",
    "# Plot window\n",
    "RE_START = -1\n",
    "RE_END = 1\n",
    "IM_START = -1.2\n",
    "IM_END = 1.2"
   ]
  },
  {
   "cell_type": "markdown",
   "metadata": {},
   "source": [
    "**Constants you can try out:**"
   ]
  },
  {
   "cell_type": "code",
   "execution_count": 43,
   "metadata": {},
   "outputs": [],
   "source": [
    "# c constant used to compute the julia set\n",
    "c = complex(0.285, 0.01)\n",
    "# Other interesting values:\n",
    "# c = complex(-0.7269, 0.1889)\n",
    "# c = complex(-0.8, 0.156)\n",
    "# c = complex(-0.4, 0.6)"
   ]
  },
  {
   "cell_type": "code",
   "execution_count": 53,
   "metadata": {},
   "outputs": [],
   "source": [
    "histogram = defaultdict(lambda: 0)\n",
    "values = {}\n",
    "for x in range(0, WIDTH):\n",
    "    for y in range(0, HEIGHT):\n",
    "        # Convert pixel coordinate to complex number\n",
    "        z0 = complex(RE_START + (x / WIDTH) * (RE_END - RE_START),\n",
    "                    IM_START + (y / HEIGHT) * (IM_END - IM_START))\n",
    "        # Compute the number of iterations\n",
    "        m = julia(c, z0)\n",
    "        \n",
    "        values[(x, y)] = m\n",
    "        if m < MAX_ITER:\n",
    "            histogram[floor(m)] += 1\n",
    "\n",
    "total = sum(histogram.values())\n",
    "hues = []\n",
    "h = 0\n",
    "for i in range(MAX_ITER):\n",
    "    h += histogram[i] / total\n",
    "    hues.append(h)\n",
    "hues.append(h)\n",
    " \n",
    "im = Image.new('HSV', (WIDTH, HEIGHT), (0, 0, 0))\n",
    "draw = ImageDraw.Draw(im)\n",
    "\n",
    "for x in range(0, WIDTH):\n",
    "    for y in range(0, HEIGHT):\n",
    "        m = values[(x, y)]\n",
    "        # The color depends on the number of iterations    \n",
    "        hue = 255 - int(255 * linear_interpolation(hues[floor(m)], hues[ceil(m)], m % 1))\n",
    "        saturation = 255\n",
    "        value = 255 if m < MAX_ITER else 0\n",
    "        # Plot the point\n",
    "        draw.point([x, y], (hue, saturation, value))\n",
    "\n",
    "im.convert('RGB').save('julia.png', 'PNG')"
   ]
  },
  {
   "cell_type": "code",
   "execution_count": 54,
   "metadata": {},
   "outputs": [],
   "source": [
    "im.show(draw)"
   ]
  },
  {
   "cell_type": "markdown",
   "metadata": {},
   "source": [
    "As for the mandelbrot drawings, you can play around with/without smoothing, with colors..."
   ]
  }
 ],
 "metadata": {
  "kernelspec": {
   "display_name": "Python 3",
   "language": "python",
   "name": "python3"
  },
  "language_info": {
   "codemirror_mode": {
    "name": "ipython",
    "version": 3
   },
   "file_extension": ".py",
   "mimetype": "text/x-python",
   "name": "python",
   "nbconvert_exporter": "python",
   "pygments_lexer": "ipython3",
   "version": "3.7.1"
  }
 },
 "nbformat": 4,
 "nbformat_minor": 2
}
